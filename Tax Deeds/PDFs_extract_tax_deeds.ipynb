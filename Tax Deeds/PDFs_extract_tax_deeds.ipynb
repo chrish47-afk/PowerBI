{
 "cells": [
  {
   "cell_type": "code",
   "execution_count": null,
   "id": "69866cf4-d14b-418d-9fae-b5d12e347fb2",
   "metadata": {},
   "outputs": [],
   "source": [
    "#pip install PyPDF2 pandas pdfplumber"
   ]
  },
  {
   "cell_type": "code",
   "execution_count": null,
   "id": "fb4ba98d-75d9-4586-83be-fd45acabbb1a",
   "metadata": {},
   "outputs": [],
   "source": [
    "#pip install tabula-py"
   ]
  },
  {
   "cell_type": "code",
   "execution_count": null,
   "id": "87eb2c9c-3492-4238-82d5-012cb8b9759c",
   "metadata": {},
   "outputs": [],
   "source": [
    "'''\n",
    "Name: Christian H.\n",
    "Objective: Transforming tables from PDFs in a destined directory to individual csv files.\n",
    "Notes: \n",
    "- Old: The following code works adequately, but the outputted data in the csv files needs to be pre-processed for better quality.\n",
    "- Old: This code, as with the Tabula software only work well with Text-base PDFs or tables. It doesn't work with image-based PDFs.\n",
    "-- > After doing some exploration. Using the same library, tabula, I simply changed the extractiong method by specfying lattice = TRUE\n",
    "\n",
    "Stream vs Lattice Extraction Methods\n",
    "Stream extraction method. If the data is not mapped to the correct cells, try the Lattice method instead.\n",
    "Stream looks for whitespace between columns, while Lattice looks for boundary lines between columns.\n",
    "\n",
    "'''"
   ]
  },
  {
   "cell_type": "code",
   "execution_count": null,
   "id": "5076eeec-0937-404f-8102-ecd55f6452ec",
   "metadata": {},
   "outputs": [],
   "source": [
    "import os\n",
    "from pathlib import Path\n",
    "from tabula import read_pdf  # Alternatively, use camelot if needed\n",
    "import pandas as pd\n",
    "\n",
    "def extract_tables_from_pdfs(input_folder, output_folder):\n",
    "    \"\"\"\n",
    "    Extracts tables from all PDF files in the input_folder and saves them as CSV files in output_folder\n",
    "    using the Lattice extraction method.\n",
    "    \n",
    "    Args:\n",
    "        input_folder (str): Path to the folder containing PDF files.\n",
    "        output_folder (str): Path to the folder to save extracted CSV files.\n",
    "    \"\"\"\n",
    "    # Ensure the output directory exists\n",
    "    os.makedirs(output_folder, exist_ok=True)\n",
    "    \n",
    "    # List all PDF files in the input folder\n",
    "    pdf_files = [f for f in Path(input_folder).glob(\"*.pdf\")]\n",
    "    if not pdf_files:\n",
    "        print(\"No PDF files found in the specified folder.\")\n",
    "        return\n",
    "    \n",
    "    for pdf_path in pdf_files:\n",
    "        try:\n",
    "            print(f\"Processing: {pdf_path.name}\")\n",
    "            # Extract tables from the PDF using Lattice method\n",
    "            tables = read_pdf(\n",
    "                str(pdf_path),\n",
    "                pages=\"all\",\n",
    "                multiple_tables=True,\n",
    "                pandas_options={\"dtype\": str},\n",
    "                lattice=True  # Specify the Lattice extraction method\n",
    "            )\n",
    "            \n",
    "            if tables:\n",
    "                for i, table in enumerate(tables):\n",
    "                    # Define the output CSV path\n",
    "                    output_file = Path(output_folder) / f\"{pdf_path.stem}_table_{i+1}.csv\"\n",
    "                    table.to_csv(output_file, index=False)\n",
    "                    print(f\"Saved table {i+1} to {output_file}\")\n",
    "            else:\n",
    "                print(f\"No tables found in {pdf_path.name}.\")\n",
    "        except Exception as e:\n",
    "            print(f\"Error processing {pdf_path.name}: {e}\")\n",
    "\n",
    "if __name__ == \"__main__\":\n",
    "    # Set the input and output folder paths here\n",
    "    input_folder = \"pdfs\"  # Replace with the path to your folder containing PDFs\n",
    "    output_folder = \"csv\"  # Replace with the path to save CSV files\n",
    "\n",
    "    extract_tables_from_pdfs(input_folder, output_folder)\n",
    "    print(\"Processing completed!\")\n"
   ]
  }
 ],
 "metadata": {
  "kernelspec": {
   "display_name": "Python 3 (ipykernel)",
   "language": "python",
   "name": "python3"
  },
  "language_info": {
   "codemirror_mode": {
    "name": "ipython",
    "version": 3
   },
   "file_extension": ".py",
   "mimetype": "text/x-python",
   "name": "python",
   "nbconvert_exporter": "python",
   "pygments_lexer": "ipython3",
   "version": "3.12.3"
  }
 },
 "nbformat": 4,
 "nbformat_minor": 5
}
